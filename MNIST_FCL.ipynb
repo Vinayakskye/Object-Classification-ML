{
 "cells": [
  {
   "cell_type": "code",
   "execution_count": 42,
   "metadata": {},
   "outputs": [],
   "source": [
    "import numpy as np\n",
    "import torch\n",
    "from torch import nn\n",
    "import torch.nn.functional as F\n",
    "from tqdm import tqdm,tqdm_notebook\n",
    "import torchvision\n",
    "from torchvision import datasets, transforms\n",
    "from torch.utils.data import Dataset,DataLoader\n",
    "import matplotlib\n",
    "import matplotlib.pyplot as plt\n",
    "from torch import nn ,optim\n",
    "from torch.utils import data\n",
    "import cv2"
   ]
  },
  {
   "cell_type": "code",
   "execution_count": 43,
   "metadata": {},
   "outputs": [],
   "source": [
    "transform = transforms.Compose([transforms.ToTensor(),\n",
    "                               transforms.Normalize((0.5,),(0.5,))])\n",
    "\n",
    "data_set = datasets.MNIST('~/.pytorch/MNIST_data/', download=True, train=True, transform=transform)\n",
    "# trainloader = torch.utils.data.DataLoader(trainset, batch_size=64, shuffle=True)"
   ]
  },
  {
   "cell_type": "code",
   "execution_count": 44,
   "metadata": {},
   "outputs": [],
   "source": [
    "train , val , test = data.random_split(data_set , [50_000,5_000,5_000])\n",
    "train_loader = DataLoader( train , batch_size = 64 , shuffle = True)\n",
    "test_loader  = DataLoader( test , batch_size = 64 , shuffle = True)\n",
    "val_loader   = DataLoader( val , batch_size = 64 , shuffle = True)"
   ]
  },
  {
   "cell_type": "markdown",
   "metadata": {},
   "source": [
    "## The data\n"
   ]
  },
  {
   "cell_type": "code",
   "execution_count": 45,
   "metadata": {},
   "outputs": [
    {
     "data": {
      "text/plain": [
       "Text(0.5, 1.0, 'Label is 5')"
      ]
     },
     "execution_count": 45,
     "metadata": {},
     "output_type": "execute_result"
    },
    {
     "data": {
      "image/png": "[encoded data removed]",
      "text/plain": [
       "<Figure size 432x288 with 1 Axes>"
      ]
     },
     "metadata": {
      "needs_background": "light"
     },
     "output_type": "display_data"
    }
   ],
   "source": [
    "dataiter = iter(trainloader)\n",
    "images, labels = next(dataiter)\n",
    "plt.imshow(images[0].view(28,28))\n",
    "plt.title(f\"Label is {labels[0]}\")"
   ]
  },
  {
   "cell_type": "markdown",
   "metadata": {},
   "source": [
    "### Model"
   ]
  },
  {
   "cell_type": "code",
   "execution_count": 46,
   "metadata": {},
   "outputs": [],
   "source": [
    "model = nn.Sequential(nn.Linear(784,100),\n",
    "                     nn.ReLU(),\n",
    "                     nn.Linear(100,64),nn.Dropout( p=0.2),\n",
    "                     nn.ReLU(),\n",
    "                     nn.Linear(64,10),\n",
    "                     nn.LogSoftmax(dim=1),)\n",
    "\n",
    "criterion = nn.CrossEntropyLoss()\n",
    "optimizer = optim.SGD(model.parameters(),lr = 0.003)"
   ]
  },
  {
   "cell_type": "markdown",
   "metadata": {},
   "source": [
    "###  Accuracy without training"
   ]
  },
  {
   "cell_type": "code",
   "execution_count": 40,
   "metadata": {},
   "outputs": [
    {
     "name": "stdout",
     "output_type": "stream",
     "text": [
      "The accuracy of the model is : 13.58\n"
     ]
    }
   ],
   "source": [
    "model.eval()\n",
    "with torch.no_grad():\n",
    "    a_count = 0\n",
    "    a_total = 0\n",
    "    for images,labels in test_loader:\n",
    "        prediction = model(images.view(images.shape[0],-1))\n",
    "        pred_names = torch.argmax(prediction,dim=1)\n",
    "        for each_prediction,each_label in zip(pred_names,labels):\n",
    "            if each_prediction == each_label:\n",
    "                a_count +=1 \n",
    "            a_total +=1\n",
    "\n",
    "print(f\"The accuracy of the model is : {a_count*100/a_total}\")   "
   ]
  },
  {
   "cell_type": "markdown",
   "metadata": {},
   "source": [
    "### Training the model"
   ]
  },
  {
   "cell_type": "code",
   "execution_count": 47,
   "metadata": {},
   "outputs": [
    {
     "name": "stdout",
     "output_type": "stream",
     "text": [
      "Training loss : 1.88171 , Accuracy : 67.00000\n",
      "Training loss : 0.89094 , Accuracy : 79.24000\n",
      "Training loss : 0.60452 , Accuracy : 82.64000\n",
      "Training loss : 0.50523 , Accuracy : 85.40000\n",
      "Training loss : 0.45411 , Accuracy : 85.72000\n",
      "Training loss : 0.42354 , Accuracy : 86.76000\n",
      "Training loss : 0.40206 , Accuracy : 87.78000\n",
      "Training loss : 0.38163 , Accuracy : 88.78000\n",
      "Training loss : 0.36832 , Accuracy : 88.82000\n",
      "Training loss : 0.35234 , Accuracy : 89.18000\n",
      "Training loss : 0.34218 , Accuracy : 88.92000\n",
      "Training loss : 0.33329 , Accuracy : 89.98000\n",
      "Training loss : 0.32353 , Accuracy : 89.66000\n",
      "Training loss : 0.31370 , Accuracy : 90.02000\n",
      "Training loss : 0.30650 , Accuracy : 90.68000\n"
     ]
    }
   ],
   "source": [
    "epochs = 15\n",
    "training_loss_a = []\n",
    "accuracy_a = []\n",
    "for e in range(epochs):\n",
    "    running_loss = 0\n",
    "    for images,labels in trainloader:\n",
    "        images = images.view(images.shape[0],-1)\n",
    "        \n",
    "        optimizer.zero_grad()\n",
    "        output = model.forward(images)\n",
    "        \n",
    "        loss = criterion(output,labels)\n",
    "        loss.backward()\n",
    "        optimizer.step()\n",
    "        running_loss = running_loss + loss.item()\n",
    "    \n",
    "    with torch.no_grad():\n",
    "        a_count = 0\n",
    "        a_total = 0\n",
    "        for images,labels in val_loader:\n",
    "            images = images.view(images.shape[0],-1)\n",
    "            output = model.forward(images)\n",
    "            pred_names = torch.argmax(output,dim=1)\n",
    "            for each_prediction,each_label in zip(pred_names,labels):\n",
    "                if each_prediction == each_label:\n",
    "                    a_count +=1 \n",
    "                a_total +=1\n",
    "    print(f\"Training loss : {running_loss/len(trainloader):.5f} , Accuracy : {(a_count*100/a_total):.5f}\")\n",
    "    training_loss_a.append(running_loss/len(trainloader))\n",
    "    accuracy_a.append(a_count*100/a_total)       "
   ]
  },
  {
   "cell_type": "code",
   "execution_count": 48,
   "metadata": {},
   "outputs": [
    {
     "data": {
      "text/plain": [
       "[<matplotlib.lines.Line2D at 0x1b0bda4bfa0>]"
      ]
     },
     "execution_count": 48,
     "metadata": {},
     "output_type": "execute_result"
    },
    {
     "data": {
      "image/png": "[encoded data removed]",
      "text/plain": [
       "<Figure size 432x288 with 1 Axes>"
      ]
     },
     "metadata": {
      "needs_background": "light"
     },
     "output_type": "display_data"
    }
   ],
   "source": [
    "plt.title(\"Loss over epochs\")\n",
    "plt.xlabel(\"Epoch\")\n",
    "plt.ylabel(\"Loss\")\n",
    "plt.plot(list(range(epochs)),training_loss_a)"
   ]
  },
  {
   "cell_type": "code",
   "execution_count": 49,
   "metadata": {},
   "outputs": [
    {
     "data": {
      "text/plain": [
       "[<matplotlib.lines.Line2D at 0x1b0bd999c40>]"
      ]
     },
     "execution_count": 49,
     "metadata": {},
     "output_type": "execute_result"
    },
    {
     "data": {
      "image/png": "[encoded data removed]",
      "text/plain": [
       "<Figure size 432x288 with 1 Axes>"
      ]
     },
     "metadata": {
      "needs_background": "light"
     },
     "output_type": "display_data"
    }
   ],
   "source": [
    "plt.title(\"Accuracy over epochs\")\n",
    "plt.xlabel(\"Epoch\")\n",
    "plt.ylabel(\"Accuracy\")\n",
    "plt.plot(list(range(epochs)),accuracy_a)"
   ]
  },
  {
   "cell_type": "markdown",
   "metadata": {},
   "source": [
    "### Accuracy \n"
   ]
  },
  {
   "cell_type": "code",
   "execution_count": 50,
   "metadata": {},
   "outputs": [
    {
     "name": "stdout",
     "output_type": "stream",
     "text": [
      "The accuracy of the model is : 92.5\n"
     ]
    }
   ],
   "source": [
    "model.eval()\n",
    "with torch.no_grad():\n",
    "    a_count = 0\n",
    "    a_total = 0\n",
    "    for images,labels in test_loader:\n",
    "        prediction = model(images.view(images.shape[0],-1))\n",
    "        pred_names = torch.argmax(prediction,dim=1)\n",
    "        for each_prediction,each_label in zip(pred_names,labels):\n",
    "            if each_prediction == each_label:\n",
    "                a_count +=1 \n",
    "            a_total +=1\n",
    "\n",
    "print(f\"The accuracy of the model is : {a_count*100/a_total}\")   "
   ]
  },
  {
   "cell_type": "code",
   "execution_count": 51,
   "metadata": {},
   "outputs": [
    {
     "data": {
      "image/png": "[encoded data removed]",
      "text/plain": [
       "<Figure size 432x648 with 2 Axes>"
      ]
     },
     "metadata": {
      "needs_background": "light"
     },
     "output_type": "display_data"
    }
   ],
   "source": [
    "%matplotlib inline\n",
    "import helper\n",
    "\n",
    "dataiter = iter(test_loader)\n",
    "images, labels = next(dataiter)\n",
    "img = images[0].view(1, 784)\n",
    "with torch.no_grad():\n",
    "    logps = model(img)\n",
    "\n",
    "ps = torch.exp(logps)\n",
    "\n",
    "helper.view_classify(img.view(1, 28, 28), ps)"
   ]
  }
 ],
 "metadata": {
  "kernelspec": {
   "display_name": "Python 3",
   "language": "python",
   "name": "python3"
  },
  "language_info": {
   "codemirror_mode": {
    "name": "ipython",
    "version": 3
   },
   "file_extension": ".py",
   "mimetype": "text/x-python",
   "name": "python",
   "nbconvert_exporter": "python",
   "pygments_lexer": "ipython3",
   "version": "3.8.5"
  }
 },
 "nbformat": 4,
 "nbformat_minor": 4
}
