{
 "cells": [
  {
   "cell_type": "code",
   "execution_count": 1,
   "metadata": {},
   "outputs": [],
   "source": [
    "import numpy as np\n",
    "import torch\n",
    "from tqdm import tqdm,tqdm_notebook\n",
    "import torchvision\n",
    "from torch.utils.data import Dataset,DataLoader\n",
    "import matplotlib.pyplot as plt\n",
    "import torchvision.transforms as transforms\n",
    "from torch import nn ,optim\n",
    "import torch.nn.functional as F\n",
    "from torch.utils import data"
   ]
  },
  {
   "cell_type": "code",
   "execution_count": 2,
   "metadata": {},
   "outputs": [],
   "source": [
    "train_set = torchvision.datasets.FashionMNIST(root='Data',train = True , download= True ,\n",
    "                                              transform = transforms.Compose([transforms.ToTensor()]))\n",
    "# train_loader = DataLoader(train_set, batch_size = 32,shuffle=True)\n",
    "train, val,test = data.random_split(train_set,[50000,5000,5000])\n",
    "train_loader = DataLoader(train , batch_size=32 , shuffle=True)\n",
    "val_loader = DataLoader(val , batch_size = 32, shuffle=True)\n",
    "test_loader = DataLoader(test , batch_size = 32, shuffle=True)\n"
   ]
  },
  {
   "cell_type": "code",
   "execution_count": 3,
   "metadata": {},
   "outputs": [
    {
     "name": "stdout",
     "output_type": "stream",
     "text": [
      "torch.Size([32, 784])\n",
      "1563 157 157\n"
     ]
    }
   ],
   "source": [
    "for img, labels in train_loader:\n",
    "#     print(img.shape,labels.shape)\n",
    "    print(torch.flatten(img,start_dim=1).shape)\n",
    "    break\n",
    "print(len(train_loader),len(val_loader),len(test_loader))\n"
   ]
  },
  {
   "cell_type": "code",
   "execution_count": 4,
   "metadata": {},
   "outputs": [],
   "source": [
    "model = nn.Sequential(nn.Linear(28*28,256),\n",
    "                      nn.ReLU(),\n",
    "                      nn.Linear(256,128),\n",
    "                      nn.ReLU(),\n",
    "                      nn.Linear(128,10),\n",
    "                      nn.LogSoftmax(dim=1)\n",
    "                     )\n"
   ]
  },
  {
   "cell_type": "code",
   "execution_count": 5,
   "metadata": {},
   "outputs": [
    {
     "name": "stdout",
     "output_type": "stream",
     "text": [
      "torch.Size([32, 10])\n",
      "torch.Size([32])\n"
     ]
    }
   ],
   "source": [
    "for imgs,labels in val_loader:\n",
    "    output = model.forward(torch.flatten(imgs,start_dim=1))\n",
    "    print(output.shape)\n",
    "    print(labels.shape)\n",
    "#     print(output)\n",
    "    break"
   ]
  },
  {
   "cell_type": "code",
   "execution_count": 10,
   "metadata": {},
   "outputs": [],
   "source": [
    "loss_function = nn.CrossEntropyLoss()\n",
    "optimizer = optim.SGD(model.parameters(), lr= 0.003)"
   ]
  },
  {
   "cell_type": "code",
   "execution_count": 12,
   "metadata": {},
   "outputs": [
    {
     "name": "stdout",
     "output_type": "stream",
     "text": [
      "Training loss : 0.56854 , Validation loss : 0.54130\n",
      "Training loss : 0.53780 , Validation loss : 0.50857\n",
      "Training loss : 0.51501 , Validation loss : 0.49737\n",
      "Training loss : 0.49740 , Validation loss : 0.47620\n",
      "Training loss : 0.48246 , Validation loss : 0.47047\n",
      "Training loss : 0.47116 , Validation loss : 0.47494\n",
      "Training loss : 0.46126 , Validation loss : 0.45459\n",
      "Training loss : 0.45346 , Validation loss : 0.45055\n",
      "Training loss : 0.44637 , Validation loss : 0.44023\n",
      "Training loss : 0.43901 , Validation loss : 0.43734\n"
     ]
    }
   ],
   "source": [
    "train_loss_list = []\n",
    "validation_loss_list = []\n",
    "epochs = 10\n",
    "for e in range(epochs):\n",
    "    running_loss = 0\n",
    "    val_loss = 0\n",
    "    for images,labels in train_loader:\n",
    "        \n",
    "        optimizer.zero_grad()\n",
    "        \n",
    "        output = model.forward(torch.flatten(images,start_dim=1))\n",
    "        \n",
    "        loss = loss_function(output,labels)\n",
    "        \n",
    "        loss.backward() \n",
    "        optimizer.step()\n",
    "        running_loss += loss.item()\n",
    "    for images,labels in val_loader:\n",
    "        \n",
    "        optimizer.zero_grad()\n",
    "        with torch.no_grad():\n",
    "            output = model.forward(torch.flatten(images,start_dim=1))\n",
    "        \n",
    "        loss = loss_function(output,labels)\n",
    "        \n",
    "        val_loss += loss.item()\n",
    "    print(f\"Training loss : {(running_loss/len(train_loader)):.5f} , Validation loss : {(val_loss/len(val_loader)):.5f}\")\n",
    "    train_loss_list.append(running_loss/len(train_loader))\n",
    "    validation_loss_list.append(val_loss/len(val_loader))"
   ]
  },
  {
   "cell_type": "code",
   "execution_count": 22,
   "metadata": {},
   "outputs": [
    {
     "data": {
      "text/plain": [
       "[<matplotlib.lines.Line2D at 0x2433ff3c460>]"
      ]
     },
     "execution_count": 22,
     "metadata": {},
     "output_type": "execute_result"
    },
    {
     "data": {
      "image/png": "[encoded data removed]",
      "text/plain": [
       "<Figure size 432x288 with 1 Axes>"
      ]
     },
     "metadata": {
      "needs_background": "light"
     },
     "output_type": "display_data"
    }
   ],
   "source": [
    "import matplotlib.pyplot as plt\n",
    "plt.title('Training and Validation loss')\n",
    "plt.xlabel('Epochs')\n",
    "plt.ylabel('Loss')\n",
    "epoch = list(range(1,11))\n",
    "plt.plot(epoch, train_loss_list, 'g', label='Training loss')\n",
    "plt.plot(epoch, validation_loss_list, 'b', label='validation loss')"
   ]
  },
  {
   "cell_type": "code",
   "execution_count": 24,
   "metadata": {},
   "outputs": [
    {
     "name": "stdout",
     "output_type": "stream",
     "text": [
      "Accuracy is :  83.84\n"
     ]
    }
   ],
   "source": [
    "model.eval()\n",
    "total = 0\n",
    "count = 0\n",
    "for img,labels in test_loader:\n",
    "    prediction = model.forward(torch.flatten(img,start_dim=1))\n",
    "    pred_nums = torch.argmax(prediction,dim=1)\n",
    "    for pred_num,actual_label in zip(pred_nums,labels):\n",
    "        if pred_num==actual_label:\n",
    "            count+=1\n",
    "        total+=1\n",
    "print(\"Accuracy is : \",count*100/total)"
   ]
  },
  {
   "cell_type": "code",
   "execution_count": 37,
   "metadata": {},
   "outputs": [],
   "source": [
    "classes = {0: 'T-shirt/top',1: 'Trouser',2: 'Pullover',3: 'Dress',4: 'Coat',5: 'Sandal',6: 'Shirt',7: 'Sneaker',8: 'Bag',9: 'Ankle boot'}"
   ]
  },
  {
   "cell_type": "code",
   "execution_count": 38,
   "metadata": {},
   "outputs": [
    {
     "ename": "TypeError",
     "evalue": "'dict' object is not callable",
     "output_type": "error",
     "traceback": [
      "\u001b[1;31m---------------------------------------------------------------------------\u001b[0m",
      "\u001b[1;31mTypeError\u001b[0m                                 Traceback (most recent call last)",
      "\u001b[1;32m<ipython-input-38-a52d1c54bb56>\u001b[0m in \u001b[0;36m<module>\u001b[1;34m\u001b[0m\n\u001b[0;32m      5\u001b[0m \u001b[0mplt\u001b[0m\u001b[1;33m.\u001b[0m\u001b[0mimshow\u001b[0m\u001b[1;33m(\u001b[0m\u001b[0mimg\u001b[0m\u001b[1;33m.\u001b[0m\u001b[0mview\u001b[0m\u001b[1;33m(\u001b[0m\u001b[1;36m28\u001b[0m\u001b[1;33m,\u001b[0m\u001b[1;36m28\u001b[0m\u001b[1;33m)\u001b[0m\u001b[1;33m)\u001b[0m\u001b[1;33m\u001b[0m\u001b[1;33m\u001b[0m\u001b[0m\n\u001b[0;32m      6\u001b[0m \u001b[1;31m# print(torch.argmax(ps))\u001b[0m\u001b[1;33m\u001b[0m\u001b[1;33m\u001b[0m\u001b[1;33m\u001b[0m\u001b[0m\n\u001b[1;32m----> 7\u001b[1;33m \u001b[0mprint\u001b[0m\u001b[1;33m(\u001b[0m\u001b[0mclasses\u001b[0m\u001b[1;33m(\u001b[0m\u001b[0mint\u001b[0m\u001b[1;33m(\u001b[0m\u001b[0mlabels\u001b[0m\u001b[1;33m[\u001b[0m\u001b[1;36m1\u001b[0m\u001b[1;33m]\u001b[0m\u001b[1;33m)\u001b[0m\u001b[1;33m)\u001b[0m\u001b[1;33m)\u001b[0m\u001b[1;33m\u001b[0m\u001b[1;33m\u001b[0m\u001b[0m\n\u001b[0m",
      "\u001b[1;31mTypeError\u001b[0m: 'dict' object is not callable"
     ]
    },
    {
     "data": {
      "image/png": "[encoded data removed]",
      "text/plain": [
       "<Figure size 432x288 with 1 Axes>"
      ]
     },
     "metadata": {
      "needs_background": "light"
     },
     "output_type": "display_data"
    }
   ],
   "source": [
    "\n",
    "dataiter = iter(test_loader)\n",
    "images, labels = dataiter.next()\n",
    "img = images[1]\n",
    "ps = torch.exp(model(img.view(-1,784)))\n",
    "plt.imshow(img.view(28,28))\n",
    "# print(torch.argmax(ps))\n",
    "print(classes[(]int(labels[1])))"
   ]
  },
  {
   "cell_type": "code",
   "execution_count": null,
   "metadata": {},
   "outputs": [],
   "source": []
  }
 ],
 "metadata": {
  "kernelspec": {
   "display_name": "Python 3",
   "language": "python",
   "name": "python3"
  },
  "language_info": {
   "codemirror_mode": {
    "name": "ipython",
    "version": 3
   },
   "file_extension": ".py",
   "mimetype": "text/x-python",
   "name": "python",
   "nbconvert_exporter": "python",
   "pygments_lexer": "ipython3",
   "version": "3.8.5"
  }
 },
 "nbformat": 4,
 "nbformat_minor": 4
}
